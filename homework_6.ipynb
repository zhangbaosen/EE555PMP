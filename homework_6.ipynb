{
 "cells": [
  {
   "cell_type": "markdown",
   "metadata": {},
   "source": [
    "### Practical Classification: Support Vector Machines"
   ]
  },
  {
   "cell_type": "markdown",
   "metadata": {},
   "source": [
    "As in the previous homework, we'll use sklearn. Read the manpage for [SVM](https://scikit-learn.org/stable/modules/generated/sklearn.svm.SVC.html) before starting the assignment. Most machine learning toolkits treat algorithms for the same type of task (in this case, classification) the same. You'll find that training and testing an SVM is _identical_ to training and testing the logistic regression classifier we generated in the previous homework. You are encouraged to reuse and, if helpful, simplify your code from the previous assignment."
   ]
  },
  {
   "cell_type": "code",
   "execution_count": null,
   "metadata": {},
   "outputs": [],
   "source": [
    "import numpy as np\n",
    "import matplotlib.pyplot as plt\n",
    "import sklearn.metrics\n",
    "from sklearn.svm import SVC\n",
    "from sklearn.linear_model import LogisticRegression"
   ]
  },
  {
   "cell_type": "markdown",
   "metadata": {},
   "source": [
    "Note in class we treated the labels as 1 and -1, since it makes the optimization problem easier to write down. In the example and homework question below, we will treat t"
   ]
  },
  {
   "cell_type": "code",
   "execution_count": 2,
   "metadata": {},
   "outputs": [],
   "source": [
    "#data for assignment\n",
    "training_data = np.loadtxt(\"homework_6_train.txt\")\n",
    "X_train = training_data[:,0:2] #selects columns 1 and 2, which are the x and y coords of the data\n",
    "Y_train = training_data[:,2] #selections column 3, which is the 0 or 1 label of the data\n",
    "\n",
    "test_data = np.loadtxt(\"homework_6_test.txt\")\n",
    "X_test = test_data[:,0:2]\n",
    "Y_test = test_data[:,2]"
   ]
  },
  {
   "cell_type": "code",
   "execution_count": 3,
   "metadata": {},
   "outputs": [
    {
     "data": {
      "image/png": "[encoded data removed]",
      "text/plain": [
       "<Figure size 432x288 with 1 Axes>"
      ]
     },
     "metadata": {
      "needs_background": "light"
     },
     "output_type": "display_data"
    }
   ],
   "source": [
    "#plotting each class seperately, not important for training the models\n",
    "X_1 = []\n",
    "X_2 = []\n",
    "for row in range(X_train.shape[0]):\n",
    "    if Y_train[row] == 0:\n",
    "        X_1.append(X_train[row,:])\n",
    "    else:\n",
    "        X_2.append(X_train[row,:])\n",
    "X_1 = np.asarray(X_1)\n",
    "X_2 = np.asarray(X_2)\n",
    "\n",
    "plt.scatter(X_1[:,0], X_1[:,1], label=\"Class 1\")\n",
    "plt.scatter(X_2[:,0], X_2[:,1], label=\"Class 2\")\n",
    "plt.legend()\n",
    "plt.show()"
   ]
  },
  {
   "cell_type": "markdown",
   "metadata": {},
   "source": [
    "### Problem 1\n",
    "\n",
    "Using a SVM on the training data set X_train and Y_train, train a classifier. Use the model object function settings I've provided below. Compute and print the training precision and recall. Additionally, compute the _test_ precision and recall."
   ]
  },
  {
   "cell_type": "code",
   "execution_count": null,
   "metadata": {
    "collapsed": true,
    "jupyter": {
     "outputs_hidden": true
    }
   },
   "outputs": [],
   "source": [
    "#insert your code here\n",
    "\n",
    "svm_model_obj = SVC(gamma='auto', kernel='linear')"
   ]
  },
  {
   "cell_type": "markdown",
   "metadata": {},
   "source": [
    "### Problem 2\n",
    "\n",
    "Train a logistic regression classifier on the training data set X_train and Y_train. Compute just the _test_ precision and recall for the logistic regression classifier."
   ]
  },
  {
   "cell_type": "code",
   "execution_count": 4,
   "metadata": {},
   "outputs": [],
   "source": [
    "#insert your code here"
   ]
  },
  {
   "cell_type": "markdown",
   "metadata": {},
   "source": [
    "### Problem 3a\n",
    "\n",
    "Plot the training data and the decision boundaries for both the SVM and logistic regression classifiers. Use sklearn’s model_object.decision_function() method to draw the decision boundaries of each model. A tutorial can be found [here](https://scikit-learn.org/stable/auto_examples/svm/plot_separating_hyperplane.html) for plotting an SVM’s decision function. The procedure for drawing the decision boundary is identical for the logistic regression model."
   ]
  },
  {
   "cell_type": "code",
   "execution_count": 6,
   "metadata": {
    "collapsed": true,
    "jupyter": {
     "outputs_hidden": true
    }
   },
   "outputs": [],
   "source": [
    "#insert your code here"
   ]
  },
  {
   "cell_type": "markdown",
   "metadata": {},
   "source": [
    "### Problem 3b\n",
    "\n",
    "Plot the test data and the decision boundaries for both the SVM and logistic regression classifiers (plotting the decision boundaries is the same as in part (a))."
   ]
  },
  {
   "cell_type": "code",
   "execution_count": 4,
   "metadata": {
    "collapsed": true,
    "jupyter": {
     "outputs_hidden": true
    }
   },
   "outputs": [],
   "source": [
    "#insert your code here"
   ]
  },
  {
   "cell_type": "markdown",
   "metadata": {},
   "source": [
    "### Bonus 1"
   ]
  },
  {
   "cell_type": "markdown",
   "metadata": {},
   "source": [
    "I've generated a data set that can only be seperated by a circluar boundary. This is the worst case scenario for a model that attempts to sepearte data with a straight line. But recall from our regression assignments: if we know the _type_ of function we want to fit, we can pass the data through a kernel (in this problem we use the [radial basis function](https://en.wikipedia.org/wiki/Radial_basis_function_kernel) (RBF)---a very powerful basis). Using the SVM model code you've written above and the data provided here, use the following model function settings to seperate the data and draw the decision boundary."
   ]
  },
  {
   "cell_type": "code",
   "execution_count": 5,
   "metadata": {
    "tags": []
   },
   "outputs": [
    {
     "data": {
      "image/png": "[encoded data removed]",
      "text/plain": [
       "<Figure size 432x288 with 1 Axes>"
      ]
     },
     "metadata": {
      "needs_background": "light"
     },
     "output_type": "display_data"
    }
   ],
   "source": [
    "data_bonus = np.loadtxt(\"homework_6_bonus.txt\")\n",
    "X_b = data_bonus[:,0:2]\n",
    "Y_b = data_bonus[:,2]\n",
    "\n",
    "X_1 = []\n",
    "X_2 = []\n",
    "for row in range(X_b.shape[0]):\n",
    "    if Y_b[row] == 0:\n",
    "        X_1.append(X_b[row,:])\n",
    "    else:\n",
    "        X_2.append(X_b[row,:])\n",
    "X_1 = np.asarray(X_1)\n",
    "X_2 = np.asarray(X_2)\n",
    "\n",
    "plt.gca().set_aspect('equal') \n",
    "plt.scatter(X_1[:,0], X_1[:,1], label=\"Class 1\")\n",
    "plt.scatter(X_2[:,0], X_2[:,1], label=\"Class 2\")\n",
    "plt.legend()\n",
    "plt.show()"
   ]
  },
  {
   "cell_type": "code",
   "execution_count": 6,
   "metadata": {
    "tags": []
   },
   "outputs": [],
   "source": [
    "#insert your code here\n",
    "\n",
    "svm_model_obj = SVC(gamma='auto', kernel='rbf')  #very important that the kernel setting is 'rbf', other options are \"poly\" or \"linear\""
   ]
  },
  {
   "cell_type": "code",
   "execution_count": null,
   "metadata": {
    "collapsed": true,
    "jupyter": {
     "outputs_hidden": true
    }
   },
   "outputs": [],
   "source": []
  }
 ],
 "metadata": {
  "kernelspec": {
   "display_name": "Python 3 (ipykernel)",
   "language": "python",
   "name": "python3"
  },
  "language_info": {
   "codemirror_mode": {
    "name": "ipython",
    "version": 3
   },
   "file_extension": ".py",
   "mimetype": "text/x-python",
   "name": "python",
   "nbconvert_exporter": "python",
   "pygments_lexer": "ipython3",
   "version": "3.9.7"
  }
 },
 "nbformat": 4,
 "nbformat_minor": 4
}
